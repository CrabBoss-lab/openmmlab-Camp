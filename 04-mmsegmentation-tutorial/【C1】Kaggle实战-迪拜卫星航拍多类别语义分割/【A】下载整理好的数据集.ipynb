{
 "cells": [
  {
   "cell_type": "markdown",
   "id": "c669bd26-b5b8-40ad-b087-ef8324985c6f",
   "metadata": {},
   "source": [
    "# 下载整理好的数据集\n",
    "\n",
    "同济子豪兄 2023-2-13 6-11\n",
    "\n",
    "Kaggle原版数据集：https://www.kaggle.com/datasets/humansintheloop/semantic-segmentation-of-aerial-imagery"
   ]
  },
  {
   "cell_type": "markdown",
   "id": "c1229f75-1171-4719-b0ba-fb7a6f66708e",
   "metadata": {},
   "source": [
    "## 进入MMSegmentation主目录"
   ]
  },
  {
   "cell_type": "code",
   "execution_count": 1,
   "id": "3bbc07c1-0207-4f2a-a99e-e1452dee5d01",
   "metadata": {},
   "outputs": [],
   "source": [
    "import os\n",
    "os.chdir('../mmsegmentation')"
   ]
  },
  {
   "cell_type": "code",
   "execution_count": 2,
   "id": "d62a9d6c-a6b6-4314-9505-c7f2d3fc9a55",
   "metadata": {},
   "outputs": [
    {
     "data": {
      "text/plain": [
       "'/mnt/openmmlab-Camp/04-mmsegmentation-tutorial/mmsegmentation'"
      ]
     },
     "execution_count": 2,
     "metadata": {},
     "output_type": "execute_result"
    }
   ],
   "source": [
    "os.getcwd()"
   ]
  },
  {
   "cell_type": "markdown",
   "id": "d74686a7-e394-4316-8f96-af07554966aa",
   "metadata": {},
   "source": [
    "## 下载整理好之后的数据集"
   ]
  },
  {
   "cell_type": "code",
   "execution_count": 3,
   "id": "43fa462e-fde0-4355-af26-38c66acdf3ed",
   "metadata": {},
   "outputs": [
    {
     "name": "stdout",
     "output_type": "stream",
     "text": [
      "--2023-06-13 09:18:05--  https://zihao-openmmlab.obs.cn-east-3.myhuaweicloud.com/20230130-mmseg/dataset/Dubai-dataset.zip\n",
      "Resolving zihao-openmmlab.obs.cn-east-3.myhuaweicloud.com (zihao-openmmlab.obs.cn-east-3.myhuaweicloud.com)... 121.36.235.132\n",
      "Connecting to zihao-openmmlab.obs.cn-east-3.myhuaweicloud.com (zihao-openmmlab.obs.cn-east-3.myhuaweicloud.com)|121.36.235.132|:443... connected.\n",
      "HTTP request sent, awaiting response... 200 OK\n",
      "Length: 29822458 (28M) [application/zip]\n",
      "Saving to: ‘Dubai-dataset.zip’\n",
      "\n",
      "Dubai-dataset.zip   100%[===================>]  28.44M  34.0MB/s    in 0.8s    \n",
      "\n",
      "2023-06-13 09:18:06 (34.0 MB/s) - ‘Dubai-dataset.zip’ saved [29822458/29822458]\n",
      "\n"
     ]
    }
   ],
   "source": [
    "!rm -rf Dubai-dataset.zip Dubai-dataset\n",
    "\n",
    "!wget https://zihao-openmmlab.obs.cn-east-3.myhuaweicloud.com/20230130-mmseg/dataset/Dubai-dataset.zip\n",
    "\n",
    "!unzip Dubai-dataset.zip >> /dev/null # 解压\n",
    "\n",
    "!rm -rf Dubai-dataset.zip # 删除压缩包"
   ]
  },
  {
   "cell_type": "markdown",
   "id": "091f4492-a74e-412d-b404-1001a5fc7841",
   "metadata": {},
   "source": [
    "在`mmsegmentation`主目录中，出现文件夹`Dubai-dataset`"
   ]
  },
  {
   "cell_type": "markdown",
   "id": "be6d3b1c-f4f7-46ac-9945-02635594f7d8",
   "metadata": {},
   "source": [
    "## 删除系统自动生成的多余文件"
   ]
  },
  {
   "cell_type": "markdown",
   "id": "356428f7-db87-4fc9-9873-e1cf1b5088db",
   "metadata": {},
   "source": [
    "### 查看待删除的多余文件"
   ]
  },
  {
   "cell_type": "code",
   "execution_count": 4,
   "id": "e3d19ea4-f543-4bdd-acc4-994555857928",
   "metadata": {},
   "outputs": [],
   "source": [
    "!find . -iname '__MACOSX'"
   ]
  },
  {
   "cell_type": "code",
   "execution_count": 5,
   "id": "e11b9512-584e-460a-a9aa-4f39a2c4e0ba",
   "metadata": {},
   "outputs": [],
   "source": [
    "!find . -iname '.DS_Store'"
   ]
  },
  {
   "cell_type": "code",
   "execution_count": 6,
   "id": "7b85e491-0497-49ff-84b6-1991b096c42d",
   "metadata": {},
   "outputs": [
    {
     "name": "stdout",
     "output_type": "stream",
     "text": [
      "./Dubai-dataset/ann_dir/train/.ipynb_checkpoints\n"
     ]
    }
   ],
   "source": [
    "!find . -iname '.ipynb_checkpoints'"
   ]
  },
  {
   "cell_type": "markdown",
   "id": "8a9de3ce-9237-4db7-a667-2847663a3161",
   "metadata": {},
   "source": [
    "### 删除多余文件"
   ]
  },
  {
   "cell_type": "code",
   "execution_count": 7,
   "id": "5240771b-5535-4150-90be-c002bd7b8baa",
   "metadata": {},
   "outputs": [],
   "source": [
    "!for i in `find . -iname '__MACOSX'`; do rm -rf $i;done"
   ]
  },
  {
   "cell_type": "code",
   "execution_count": 8,
   "id": "699b2af5-63a1-41fc-adb3-488e3f4bf01e",
   "metadata": {},
   "outputs": [],
   "source": [
    "!for i in `find . -iname '.DS_Store'`; do rm -rf $i;done"
   ]
  },
  {
   "cell_type": "code",
   "execution_count": 9,
   "id": "7e530f61-072a-4d16-a4bf-c8ab99cdeeb1",
   "metadata": {},
   "outputs": [],
   "source": [
    "!for i in `find . -iname '.ipynb_checkpoints'`; do rm -rf $i;done"
   ]
  },
  {
   "cell_type": "markdown",
   "id": "f5f67d64-acb3-48fb-ad42-9a30c8aab536",
   "metadata": {},
   "source": [
    "### 验证多余文件已删除"
   ]
  },
  {
   "cell_type": "code",
   "execution_count": 10,
   "id": "2f9228d1-8426-4b48-8b6a-84096b26b095",
   "metadata": {},
   "outputs": [],
   "source": [
    "!find . -iname '__MACOSX'"
   ]
  },
  {
   "cell_type": "code",
   "execution_count": 11,
   "id": "ac3dbe7d-c347-4d67-8074-da4915507526",
   "metadata": {},
   "outputs": [],
   "source": [
    "!find . -iname '.DS_Store'"
   ]
  },
  {
   "cell_type": "code",
   "execution_count": 12,
   "id": "500ec0a3-6399-4d18-b53c-9ea4248635da",
   "metadata": {},
   "outputs": [],
   "source": [
    "!find . -iname '.ipynb_checkpoints'"
   ]
  },
  {
   "cell_type": "code",
   "execution_count": null,
   "id": "a192ad11-7519-47ee-aeed-4183f1ffecd3",
   "metadata": {},
   "outputs": [],
   "source": []
  }
 ],
 "metadata": {
  "kernelspec": {
   "display_name": "myconda",
   "language": "python",
   "name": "myconda"
  },
  "language_info": {
   "codemirror_mode": {
    "name": "ipython",
    "version": 3
   },
   "file_extension": ".py",
   "mimetype": "text/x-python",
   "name": "python",
   "nbconvert_exporter": "python",
   "pygments_lexer": "ipython3",
   "version": "3.8.15"
  }
 },
 "nbformat": 4,
 "nbformat_minor": 5
}

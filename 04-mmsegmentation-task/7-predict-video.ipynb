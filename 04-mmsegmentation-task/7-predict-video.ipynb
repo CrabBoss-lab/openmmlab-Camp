{
 "cells": [
  {
   "cell_type": "code",
   "execution_count": 2,
   "id": "c04f4807-fb61-4646-90ca-d135178efa84",
   "metadata": {},
   "outputs": [],
   "source": [
    "import os\n",
    "os.chdir('mmsegmentation')"
   ]
  },
  {
   "cell_type": "code",
   "execution_count": 6,
   "id": "f97cb135-5662-47a4-bde1-b41971508941",
   "metadata": {},
   "outputs": [
    {
     "name": "stdout",
     "output_type": "stream",
     "text": [
      "/mnt/openmmlab-Camp/04-mmsegmentation-task/mmsegmentation/mmseg/models/builder.py:36: UserWarning: ``build_loss`` would be deprecated soon, please use ``mmseg.registry.MODELS.build()`` \n",
      "  warnings.warn('``build_loss`` would be deprecated soon, please use '\n",
      "/mnt/openmmlab-Camp/04-mmsegmentation-task/mmsegmentation/mmseg/models/losses/cross_entropy_loss.py:235: UserWarning: Default ``avg_non_ignore`` is False, if you would like to ignore the certain label and average loss over non-ignore labels, which is the same with PyTorch official cross_entropy, set ``avg_non_ignore=True``.\n",
      "  warnings.warn(\n",
      "Loads checkpoint by local backend from path: work_dirs/pspnet-watermelon/iter_3000.pth\n",
      "OpenCV: FFMPEG: tag 0x47504a4d/'MJPG' is not supported with codec id 7 and format 'mp4 / MP4 (MPEG-4 Part 14)'\n",
      "OpenCV: FFMPEG: fallback to use tag 0x7634706d/'mp4v'\n",
      "06/14 04:51:40 - mmengine - \u001b[5m\u001b[4m\u001b[33mWARNING\u001b[0m - `Visualizer` backend is not initialized because save_dir is None.\n"
     ]
    }
   ],
   "source": [
    "!/root/miniconda3/envs/myconda/bin/python demo/video_demo.py \\\n",
    "        Watermelon87_Semantic_Seg_Mask/input_test_dir/w.mp4 \\\n",
    "        Watermelon87_Semantic_Seg_Mask/pspnet-watermelon.py \\\n",
    "        work_dirs/pspnet-watermelon/iter_3000.pth \\\n",
    "        --device cuda:0 \\\n",
    "        --output-file outputs/outputs.mp4 \\\n",
    "        --opacity 0.7"
   ]
  }
 ],
 "metadata": {
  "kernelspec": {
   "display_name": "myconda",
   "language": "python",
   "name": "myconda"
  },
  "language_info": {
   "codemirror_mode": {
    "name": "ipython",
    "version": 3
   },
   "file_extension": ".py",
   "mimetype": "text/x-python",
   "name": "python",
   "nbconvert_exporter": "python",
   "pygments_lexer": "ipython3",
   "version": "3.8.15"
  }
 },
 "nbformat": 4,
 "nbformat_minor": 5
}

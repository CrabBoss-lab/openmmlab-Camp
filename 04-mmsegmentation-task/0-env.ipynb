{
 "cells": [
  {
   "cell_type": "code",
   "execution_count": 6,
   "id": "4d8737a6-e828-41e7-bbec-c2acf470de0c",
   "metadata": {
    "tags": []
   },
   "outputs": [
    {
     "name": "stdout",
     "output_type": "stream",
     "text": [
      "Cloning into 'mmsegmentation'...\n",
      "remote: Enumerating objects: 15117, done.\u001b[K\n",
      "remote: Counting objects: 100% (683/683), done.\u001b[K\n",
      "remote: Compressing objects: 100% (425/425), done.\u001b[K\n",
      "remote: Total 15117 (delta 277), reused 468 (delta 226), pack-reused 14434\u001b[K\n",
      "Receiving objects: 100% (15117/15117), 20.27 MiB | 16.00 MiB/s, done.\n",
      "Resolving deltas: 100% (10597/10597), done.\n",
      "Updating files: 100% (1461/1461), done.\n"
     ]
    }
   ],
   "source": [
    "!rm -rf mmsegmentation\n",
    "!git clone https://github.com/open-mmlab/mmsegmentation.git -b dev-1.x"
   ]
  },
  {
   "cell_type": "code",
   "execution_count": 7,
   "id": "d0319aa5-67ac-476f-860c-af2beb5c33d0",
   "metadata": {},
   "outputs": [],
   "source": [
    "import os\n",
    "os.chdir('mmsegmentation')"
   ]
  },
  {
   "cell_type": "code",
   "execution_count": 8,
   "id": "68028bbd-c535-4339-93ab-14a2647c3625",
   "metadata": {},
   "outputs": [
    {
     "name": "stdout",
     "output_type": "stream",
     "text": [
      "Using pip 22.3.1 from /root/miniconda3/envs/myconda/lib/python3.8/site-packages/pip (python 3.8)\n",
      "Looking in indexes: https://pypi.tuna.tsinghua.edu.cn/simple/\n",
      "Obtaining file:///mnt/openmmlab-Camp/04-mmsegmentation-task/mmsegmentation\n",
      "  Running command python setup.py egg_info\n",
      "  running egg_info\n",
      "  creating /tmp/pip-pip-egg-info-kh9gqtkj/mmsegmentation.egg-info\n",
      "  writing /tmp/pip-pip-egg-info-kh9gqtkj/mmsegmentation.egg-info/PKG-INFO\n",
      "  writing dependency_links to /tmp/pip-pip-egg-info-kh9gqtkj/mmsegmentation.egg-info/dependency_links.txt\n",
      "  writing requirements to /tmp/pip-pip-egg-info-kh9gqtkj/mmsegmentation.egg-info/requires.txt\n",
      "  writing top-level names to /tmp/pip-pip-egg-info-kh9gqtkj/mmsegmentation.egg-info/top_level.txt\n",
      "  writing manifest file '/tmp/pip-pip-egg-info-kh9gqtkj/mmsegmentation.egg-info/SOURCES.txt'\n",
      "  reading manifest file '/tmp/pip-pip-egg-info-kh9gqtkj/mmsegmentation.egg-info/SOURCES.txt'\n",
      "  reading manifest template 'MANIFEST.in'\n",
      "  warning: no files found matching 'mmseg/.mim/model-index.yml'\n",
      "  warning: no files found matching '*.py' under directory 'mmseg/.mim/configs'\n",
      "  warning: no files found matching '*.yaml' under directory 'mmseg/.mim/configs'\n",
      "  warning: no files found matching '*.py' under directory 'mmseg/.mim/tools'\n",
      "  warning: no files found matching '*.sh' under directory 'mmseg/.mim/tools'\n",
      "  adding license file 'LICENSE'\n",
      "  writing manifest file '/tmp/pip-pip-egg-info-kh9gqtkj/mmsegmentation.egg-info/SOURCES.txt'\n",
      "  Preparing metadata (setup.py) ... \u001b[?25l\u001b[?25hdone\n",
      "Requirement already satisfied: matplotlib in /root/miniconda3/envs/myconda/lib/python3.8/site-packages (from mmsegmentation==1.0.0) (3.6.2)\n",
      "Requirement already satisfied: numpy in /root/miniconda3/envs/myconda/lib/python3.8/site-packages (from mmsegmentation==1.0.0) (1.23.5)\n",
      "Requirement already satisfied: packaging in /root/miniconda3/envs/myconda/lib/python3.8/site-packages (from mmsegmentation==1.0.0) (22.0)\n",
      "Requirement already satisfied: prettytable in /root/miniconda3/envs/myconda/lib/python3.8/site-packages (from mmsegmentation==1.0.0) (3.7.0)\n",
      "Requirement already satisfied: scipy in /root/miniconda3/envs/myconda/lib/python3.8/site-packages (from mmsegmentation==1.0.0) (1.9.1)\n",
      "Requirement already satisfied: pyparsing>=2.2.1 in /root/miniconda3/envs/myconda/lib/python3.8/site-packages (from matplotlib->mmsegmentation==1.0.0) (3.0.9)\n",
      "Requirement already satisfied: python-dateutil>=2.7 in /root/miniconda3/envs/myconda/lib/python3.8/site-packages (from matplotlib->mmsegmentation==1.0.0) (2.8.2)\n",
      "Requirement already satisfied: contourpy>=1.0.1 in /root/miniconda3/envs/myconda/lib/python3.8/site-packages (from matplotlib->mmsegmentation==1.0.0) (1.0.6)\n",
      "Requirement already satisfied: fonttools>=4.22.0 in /root/miniconda3/envs/myconda/lib/python3.8/site-packages (from matplotlib->mmsegmentation==1.0.0) (4.38.0)\n",
      "Requirement already satisfied: cycler>=0.10 in /root/miniconda3/envs/myconda/lib/python3.8/site-packages (from matplotlib->mmsegmentation==1.0.0) (0.11.0)\n",
      "Requirement already satisfied: pillow>=6.2.0 in /root/miniconda3/envs/myconda/lib/python3.8/site-packages (from matplotlib->mmsegmentation==1.0.0) (9.3.0)\n",
      "Requirement already satisfied: kiwisolver>=1.0.1 in /root/miniconda3/envs/myconda/lib/python3.8/site-packages (from matplotlib->mmsegmentation==1.0.0) (1.4.4)\n",
      "Requirement already satisfied: wcwidth in /root/miniconda3/envs/myconda/lib/python3.8/site-packages (from prettytable->mmsegmentation==1.0.0) (0.2.5)\n",
      "Requirement already satisfied: six>=1.5 in /root/miniconda3/envs/myconda/lib/python3.8/site-packages (from python-dateutil>=2.7->matplotlib->mmsegmentation==1.0.0) (1.16.0)\n",
      "Installing collected packages: mmsegmentation\n",
      "  Running setup.py develop for mmsegmentation\n",
      "    Running command python setup.py develop\n",
      "    running develop\n",
      "    running egg_info\n",
      "    creating mmsegmentation.egg-info\n",
      "    writing mmsegmentation.egg-info/PKG-INFO\n",
      "    writing dependency_links to mmsegmentation.egg-info/dependency_links.txt\n",
      "    writing requirements to mmsegmentation.egg-info/requires.txt\n",
      "    writing top-level names to mmsegmentation.egg-info/top_level.txt\n",
      "    writing manifest file 'mmsegmentation.egg-info/SOURCES.txt'\n",
      "    reading manifest file 'mmsegmentation.egg-info/SOURCES.txt'\n",
      "    reading manifest template 'MANIFEST.in'\n",
      "    adding license file 'LICENSE'\n",
      "    writing manifest file 'mmsegmentation.egg-info/SOURCES.txt'\n",
      "    running build_ext\n",
      "    Creating /root/miniconda3/envs/myconda/lib/python3.8/site-packages/mmsegmentation.egg-link (link to .)\n",
      "    Adding mmsegmentation 1.0.0 to easy-install.pth file\n",
      "\n",
      "    Installed /mnt/openmmlab-Camp/04-mmsegmentation-task/mmsegmentation\n",
      "    /mnt/openmmlab-Camp/04-mmsegmentation-task/mmsegmentation/setup.py:150: UserWarning: Failed to create a symbolic link for ../../tools, and it will be copied to /mnt/openmmlab-Camp/04-mmsegmentation-task/mmsegmentation/mmseg/.mim/tools\n",
      "      warnings.warn(\n",
      "    /root/miniconda3/envs/myconda/lib/python3.8/site-packages/setuptools/command/easy_install.py:144: EasyInstallDeprecationWarning: easy_install command is deprecated. Use build and pip and other standards-based tools.\n",
      "      warnings.warn(\n",
      "    /root/miniconda3/envs/myconda/lib/python3.8/site-packages/setuptools/command/install.py:34: SetuptoolsDeprecationWarning: setup.py install is deprecated. Use build and pip and other standards-based tools.\n",
      "      warnings.warn(\n",
      "Successfully installed mmsegmentation-1.0.0\n",
      "\u001b[33mWARNING: Running pip as the 'root' user can result in broken permissions and conflicting behaviour with the system package manager. It is recommended to use a virtual environment instead: https://pip.pypa.io/warnings/venv\u001b[0m\u001b[33m\n",
      "\u001b[0m"
     ]
    }
   ],
   "source": [
    "!/root/miniconda3/envs/myconda/bin/pip install -v -e ."
   ]
  },
  {
   "cell_type": "code",
   "execution_count": 9,
   "id": "4e382f2d-6c6d-47b3-8356-53fc98361a24",
   "metadata": {},
   "outputs": [
    {
     "name": "stdout",
     "output_type": "stream",
     "text": [
      "Pytorch 版本 1.12.1+cu116\n",
      "CUDA 是否可用 True\n"
     ]
    }
   ],
   "source": [
    "# 检查 Pytorch\n",
    "import torch, torchvision\n",
    "print('Pytorch 版本', torch.__version__)\n",
    "print('CUDA 是否可用',torch.cuda.is_available())"
   ]
  },
  {
   "cell_type": "code",
   "execution_count": 10,
   "id": "b3f253e0-cff4-4a1e-ac3e-4d47811240d7",
   "metadata": {},
   "outputs": [
    {
     "name": "stdout",
     "output_type": "stream",
     "text": [
      "MMCV版本 2.0.0\n",
      "CUDA版本 11.6\n",
      "编译器版本 GCC 9.3\n"
     ]
    }
   ],
   "source": [
    "# 检查 mmcv\n",
    "import mmcv\n",
    "from mmcv.ops import get_compiling_cuda_version, get_compiler_version\n",
    "print('MMCV版本', mmcv.__version__)\n",
    "print('CUDA版本', get_compiling_cuda_version())\n",
    "print('编译器版本', get_compiler_version())"
   ]
  },
  {
   "cell_type": "code",
   "execution_count": 11,
   "id": "62f8d2db-90e8-4af4-807b-2ad993a86f56",
   "metadata": {},
   "outputs": [
    {
     "name": "stdout",
     "output_type": "stream",
     "text": [
      "mmsegmentation版本 1.0.0\n"
     ]
    }
   ],
   "source": [
    "# 检查 mmsegmentation\n",
    "import mmseg\n",
    "from mmseg.utils import register_all_modules\n",
    "from mmseg.apis import inference_model, init_model\n",
    "print('mmsegmentation版本', mmseg.__version__)"
   ]
  }
 ],
 "metadata": {
  "kernelspec": {
   "display_name": "myconda",
   "language": "python",
   "name": "myconda"
  },
  "language_info": {
   "codemirror_mode": {
    "name": "ipython",
    "version": 3
   },
   "file_extension": ".py",
   "mimetype": "text/x-python",
   "name": "python",
   "nbconvert_exporter": "python",
   "pygments_lexer": "ipython3",
   "version": "3.8.15"
  }
 },
 "nbformat": 4,
 "nbformat_minor": 5
}

{
 "cells": [
  {
   "cell_type": "markdown",
   "id": "50497f08-0dfb-4d41-971e-9743621ad468",
   "metadata": {},
   "source": [
    "# 下载mmpretrain源码"
   ]
  },
  {
   "cell_type": "code",
   "execution_count": 2,
   "id": "4976608c-2104-4c50-ac91-c2d76bd4b57d",
   "metadata": {},
   "outputs": [
    {
     "name": "stdout",
     "output_type": "stream",
     "text": [
      "Cloning into 'mmpretrain'...\n",
      "remote: Enumerating objects: 16733, done.\u001b[K\n",
      "remote: Counting objects: 100% (1564/1564), done.\u001b[K\n",
      "remote: Compressing objects: 100% (613/613), done.\u001b[K\n",
      "remote: Total 16733 (delta 984), reused 1389 (delta 932), pack-reused 15169\u001b[K\n",
      "Receiving objects: 100% (16733/16733), 13.27 MiB | 5.87 MiB/s, done.\n",
      "Resolving deltas: 100% (11615/11615), done.\n",
      "Updating files: 100% (1621/1621), done.\n"
     ]
    }
   ],
   "source": [
    "!git clone https://github.com/open-mmlab/mmpretrain"
   ]
  },
  {
   "cell_type": "markdown",
   "id": "9630b0df-2eb2-4963-9280-c83c9d09d076",
   "metadata": {},
   "source": [
    "# 进入mmpretrain目录"
   ]
  },
  {
   "cell_type": "code",
   "execution_count": 1,
   "id": "95fef4fc-ed25-48b1-a3b9-884360b4cc92",
   "metadata": {},
   "outputs": [],
   "source": [
    "import os\n",
    "os.chdir('mmpretrain')"
   ]
  },
  {
   "cell_type": "code",
   "execution_count": 2,
   "id": "f6cca8b6-6f26-452a-8486-2773f35e8ea1",
   "metadata": {},
   "outputs": [
    {
     "data": {
      "text/plain": [
       "'/mnt/openmmlab-Camp/02-mmpretrain-tutorial/mmpretrain'"
      ]
     },
     "execution_count": 2,
     "metadata": {},
     "output_type": "execute_result"
    }
   ],
   "source": [
    "os.getcwd()"
   ]
  },
  {
   "cell_type": "markdown",
   "id": "74fe8b09-4b4c-45c1-b0bd-3051e28938c6",
   "metadata": {},
   "source": [
    "# 安装mim"
   ]
  },
  {
   "cell_type": "code",
   "execution_count": 6,
   "id": "719453bd-226d-44ba-a6f7-f9b7840a161b",
   "metadata": {
    "tags": []
   },
   "outputs": [
    {
     "name": "stdout",
     "output_type": "stream",
     "text": [
      "Looking in indexes: https://pypi.tuna.tsinghua.edu.cn/simple/\n",
      "Collecting openmim\n",
      "  Downloading https://pypi.tuna.tsinghua.edu.cn/packages/b9/19/f7436e610163f65ff83de5a768180e73765e54bdaee5f5f37983aa3171b9/openmim-0.3.7-py2.py3-none-any.whl (51 kB)\n",
      "\u001b[2K     \u001b[90m━━━━━━━━━━━━━━━━━━━━━━━━━━━━━━━━━━━━━━━\u001b[0m \u001b[32m51.3/51.3 kB\u001b[0m \u001b[31m791.2 kB/s\u001b[0m eta \u001b[36m0:00:00\u001b[0ma \u001b[36m0:00:01\u001b[0m\n",
      "\u001b[?25hCollecting rich\n",
      "  Downloading https://pypi.tuna.tsinghua.edu.cn/packages/39/03/6de23bdd88f5ee7f8b03f94f6e88108f5d7ffe6d207e95cdb06d9aa4cd57/rich-13.3.5-py3-none-any.whl (238 kB)\n",
      "\u001b[2K     \u001b[90m━━━━━━━━━━━━━━━━━━━━━━━━━━━━━━━━━━━━━━━\u001b[0m \u001b[32m238.7/238.7 kB\u001b[0m \u001b[31m2.4 MB/s\u001b[0m eta \u001b[36m0:00:00\u001b[0ma \u001b[36m0:00:01\u001b[0m\n",
      "\u001b[?25hRequirement already satisfied: pandas in /root/miniconda3/envs/myconda/lib/python3.9/site-packages (from openmim) (1.4.4)\n",
      "Collecting model-index\n",
      "  Downloading https://pypi.tuna.tsinghua.edu.cn/packages/0f/a6/4d4cbbef704f186d143e2859296a610a355992e4eae71582bd598093b36a/model_index-0.1.11-py3-none-any.whl (34 kB)\n",
      "Collecting Click\n",
      "  Downloading https://pypi.tuna.tsinghua.edu.cn/packages/c2/f1/df59e28c642d583f7dacffb1e0965d0e00b218e0186d7858ac5233dce840/click-8.1.3-py3-none-any.whl (96 kB)\n",
      "\u001b[2K     \u001b[90m━━━━━━━━━━━━━━━━━━━━━━━━━━━━━━━━━━━━━━━━\u001b[0m \u001b[32m96.6/96.6 kB\u001b[0m \u001b[31m8.3 MB/s\u001b[0m eta \u001b[36m0:00:00\u001b[0m\n",
      "\u001b[?25hCollecting colorama\n",
      "  Downloading https://pypi.tuna.tsinghua.edu.cn/packages/d1/d6/3965ed04c63042e047cb6a3e6ed1a63a35087b6a609aa3a15ed8ac56c221/colorama-0.4.6-py2.py3-none-any.whl (25 kB)\n",
      "Collecting tabulate\n",
      "  Downloading https://pypi.tuna.tsinghua.edu.cn/packages/40/44/4a5f08c96eb108af5cb50b41f76142f0afa346dfa99d5296fe7202a11854/tabulate-0.9.0-py3-none-any.whl (35 kB)\n",
      "Requirement already satisfied: pip>=19.3 in /root/miniconda3/envs/myconda/lib/python3.9/site-packages (from openmim) (22.1.2)\n",
      "Requirement already satisfied: requests in /root/miniconda3/envs/myconda/lib/python3.9/site-packages (from openmim) (2.28.1)\n",
      "Requirement already satisfied: markdown in /root/miniconda3/envs/myconda/lib/python3.9/site-packages (from model-index->openmim) (3.4.1)\n",
      "Collecting pyyaml\n",
      "  Downloading https://pypi.tuna.tsinghua.edu.cn/packages/12/fc/a4d5a7554e0067677823f7265cb3ae22aed8a238560b5133b58cda252dad/PyYAML-6.0-cp39-cp39-manylinux_2_5_x86_64.manylinux1_x86_64.manylinux_2_12_x86_64.manylinux2010_x86_64.whl (661 kB)\n",
      "\u001b[2K     \u001b[90m━━━━━━━━━━━━━━━━━━━━━━━━━━━━━━━━━━━━━━━\u001b[0m \u001b[32m661.8/661.8 kB\u001b[0m \u001b[31m6.9 MB/s\u001b[0m eta \u001b[36m0:00:00\u001b[0m00:01\u001b[0m00:01\u001b[0m\n",
      "\u001b[?25hCollecting ordered-set\n",
      "  Downloading https://pypi.tuna.tsinghua.edu.cn/packages/33/55/af02708f230eb77084a299d7b08175cff006dea4f2721074b92cdb0296c0/ordered_set-4.1.0-py3-none-any.whl (7.6 kB)\n",
      "Requirement already satisfied: numpy>=1.18.5 in /root/miniconda3/envs/myconda/lib/python3.9/site-packages (from pandas->openmim) (1.23.3)\n",
      "Requirement already satisfied: pytz>=2020.1 in /root/miniconda3/envs/myconda/lib/python3.9/site-packages (from pandas->openmim) (2022.2.1)\n",
      "Requirement already satisfied: python-dateutil>=2.8.1 in /root/miniconda3/envs/myconda/lib/python3.9/site-packages (from pandas->openmim) (2.8.2)\n",
      "Requirement already satisfied: urllib3<1.27,>=1.21.1 in /root/miniconda3/envs/myconda/lib/python3.9/site-packages (from requests->openmim) (1.26.12)\n",
      "Requirement already satisfied: certifi>=2017.4.17 in /root/miniconda3/envs/myconda/lib/python3.9/site-packages (from requests->openmim) (2022.6.15)\n",
      "Requirement already satisfied: charset-normalizer<3,>=2 in /root/miniconda3/envs/myconda/lib/python3.9/site-packages (from requests->openmim) (2.1.1)\n",
      "Requirement already satisfied: idna<4,>=2.5 in /root/miniconda3/envs/myconda/lib/python3.9/site-packages (from requests->openmim) (3.4)\n",
      "Collecting markdown-it-py<3.0.0,>=2.2.0\n",
      "  Downloading https://pypi.tuna.tsinghua.edu.cn/packages/bf/25/2d88e8feee8e055d015343f9b86e370a1ccbec546f2865c98397aaef24af/markdown_it_py-2.2.0-py3-none-any.whl (84 kB)\n",
      "\u001b[2K     \u001b[90m━━━━━━━━━━━━━━━━━━━━━━━━━━━━━━━━━━━━━━━━\u001b[0m \u001b[32m84.5/84.5 kB\u001b[0m \u001b[31m8.3 MB/s\u001b[0m eta \u001b[36m0:00:00\u001b[0m\n",
      "\u001b[?25hRequirement already satisfied: pygments<3.0.0,>=2.13.0 in /root/miniconda3/envs/myconda/lib/python3.9/site-packages (from rich->openmim) (2.13.0)\n",
      "Collecting mdurl~=0.1\n",
      "  Downloading https://pypi.tuna.tsinghua.edu.cn/packages/b3/38/89ba8ad64ae25be8de66a6d463314cf1eb366222074cfda9ee839c56a4b4/mdurl-0.1.2-py3-none-any.whl (10.0 kB)\n",
      "Requirement already satisfied: six>=1.5 in /root/miniconda3/envs/myconda/lib/python3.9/site-packages (from python-dateutil>=2.8.1->pandas->openmim) (1.16.0)\n",
      "Requirement already satisfied: importlib-metadata>=4.4 in /root/miniconda3/envs/myconda/lib/python3.9/site-packages (from markdown->model-index->openmim) (4.12.0)\n",
      "Requirement already satisfied: zipp>=0.5 in /root/miniconda3/envs/myconda/lib/python3.9/site-packages (from importlib-metadata>=4.4->markdown->model-index->openmim) (3.8.1)\n",
      "Installing collected packages: tabulate, pyyaml, ordered-set, mdurl, colorama, Click, markdown-it-py, rich, model-index, openmim\n",
      "Successfully installed Click-8.1.3 colorama-0.4.6 markdown-it-py-2.2.0 mdurl-0.1.2 model-index-0.1.11 openmim-0.3.7 ordered-set-4.1.0 pyyaml-6.0 rich-13.3.5 tabulate-0.9.0\n",
      "\u001b[33mWARNING: Running pip as the 'root' user can result in broken permissions and conflicting behaviour with the system package manager. It is recommended to use a virtual environment instead: https://pip.pypa.io/warnings/venv\u001b[0m\u001b[33m\n",
      "\u001b[0m"
     ]
    }
   ],
   "source": [
    "!/root/miniconda3/envs/myconda/bin/pip install openmim"
   ]
  },
  {
   "cell_type": "markdown",
   "id": "3a337648-4465-421e-897f-b814f5c9ef21",
   "metadata": {},
   "source": [
    "# 安装mmpretrain多模态算法库"
   ]
  },
  {
   "cell_type": "code",
   "execution_count": 3,
   "id": "c2921ba0-bfbe-40aa-af00-db2c1aef3f3a",
   "metadata": {},
   "outputs": [
    {
     "name": "stdout",
     "output_type": "stream",
     "text": [
      "Looking in indexes: https://pypi.tuna.tsinghua.edu.cn/simple/\n",
      "Looking in links: https://download.openmmlab.com/mmcv/dist/cu113/torch1.12.0/index.html\n",
      "Obtaining file:///mnt/openmmlab-Camp/02-mmpretrain-tutorial/mmpretrain\n",
      "  Preparing metadata (setup.py) ... \u001b[?25ldone\n",
      "\u001b[?25hCollecting einops\n",
      "  Downloading https://pypi.tuna.tsinghua.edu.cn/packages/68/24/b05452c986e8eff11f47e123a40798ae693f2fa1ed2f9546094997d2f6be/einops-0.6.1-py3-none-any.whl (42 kB)\n",
      "\u001b[2K     \u001b[90m━━━━━━━━━━━━━━━━━━━━━━━━━━━━━━━━━━━━━━━\u001b[0m \u001b[32m42.2/42.2 kB\u001b[0m \u001b[31m699.7 kB/s\u001b[0m eta \u001b[36m0:00:00\u001b[0ma \u001b[36m0:00:01\u001b[0m\n",
      "\u001b[?25hRequirement already satisfied: importlib-metadata in /root/miniconda3/envs/myconda/lib/python3.9/site-packages (from mmpretrain==1.0.0rc8) (4.12.0)\n",
      "Collecting mat4py\n",
      "  Downloading https://pypi.tuna.tsinghua.edu.cn/packages/e8/56/41b3ffd7b5f3eb3056979e0dc37de184c6e5dacd1a353e5de42323e7d138/mat4py-0.5.0-py2.py3-none-any.whl (13 kB)\n",
      "Requirement already satisfied: matplotlib in /root/miniconda3/envs/myconda/lib/python3.9/site-packages (from mmpretrain==1.0.0rc8) (3.6.0)\n",
      "Collecting modelindex\n",
      "  Downloading https://pypi.tuna.tsinghua.edu.cn/packages/79/63/9d6ddca82fc7bd227cfc323fe5ab9f97cf90e23501fa3274194d93806dc1/modelindex-0.0.2-py3-none-any.whl (2.1 kB)\n",
      "Requirement already satisfied: numpy in /root/miniconda3/envs/myconda/lib/python3.9/site-packages (from mmpretrain==1.0.0rc8) (1.23.3)\n",
      "Requirement already satisfied: rich in /root/miniconda3/envs/myconda/lib/python3.9/site-packages (from mmpretrain==1.0.0rc8) (13.3.5)\n",
      "Collecting pycocotools\n",
      "  Downloading https://pypi.tuna.tsinghua.edu.cn/packages/ef/c6/90220be3b39fbc4cbd203775ca47dd8dc97fae06fbd2b500637395621b7c/pycocotools-2.0.6.tar.gz (24 kB)\n",
      "  Installing build dependencies ... \u001b[?25ldone\n",
      "\u001b[?25h  Getting requirements to build wheel ... \u001b[?25ldone\n",
      "\u001b[?25h  Preparing metadata (pyproject.toml) ... \u001b[?25ldone\n",
      "\u001b[?25hCollecting transformers>=4.28.0\n",
      "  Downloading https://pypi.tuna.tsinghua.edu.cn/packages/e8/b5/ddb16f9de207e6571ab7cc5db0cc538fa2d6d91cf024565496462af4c1ce/transformers-4.29.1-py3-none-any.whl (7.1 MB)\n",
      "\u001b[2K     \u001b[90m━━━━━━━━━━━━━━━━━━━━━━━━━━━━━━━━━━━━━━━━\u001b[0m \u001b[32m7.1/7.1 MB\u001b[0m \u001b[31m14.2 MB/s\u001b[0m eta \u001b[36m0:00:00\u001b[0m00:01\u001b[0m00:01\u001b[0m\n",
      "\u001b[?25hCollecting mmcv<2.1.0,>=2.0.0rc4\n",
      "  Downloading https://download.openmmlab.com/mmcv/dist/cu113/torch1.12.0/mmcv-2.0.0-cp39-cp39-manylinux1_x86_64.whl (70.7 MB)\n",
      "\u001b[2K     \u001b[90m━━━━━━━━━━━━━━━━━━━━━━━━━━━━━━━━━━━━━━━━\u001b[0m \u001b[32m70.7/70.7 MB\u001b[0m \u001b[31m6.3 MB/s\u001b[0m eta \u001b[36m0:00:00\u001b[0m:00:01\u001b[0m00:01\u001b[0m\n",
      "\u001b[?25hCollecting mmengine<1.0.0,>=0.4.0\n",
      "  Downloading https://pypi.tuna.tsinghua.edu.cn/packages/d8/d7/5fb7fac5b9420f956b69b3e197519995f6e38d5ef58291be3e3eb3306adf/mmengine-0.7.3-py3-none-any.whl (372 kB)\n",
      "\u001b[2K     \u001b[90m━━━━━━━━━━━━━━━━━━━━━━━━━━━━━━━━━━━━━━\u001b[0m \u001b[32m372.1/372.1 kB\u001b[0m \u001b[31m28.5 MB/s\u001b[0m eta \u001b[36m0:00:00\u001b[0m\n",
      "\u001b[?25hRequirement already satisfied: packaging in /root/miniconda3/envs/myconda/lib/python3.9/site-packages (from mmcv<2.1.0,>=2.0.0rc4->mmpretrain==1.0.0rc8) (21.3)\n",
      "Collecting addict\n",
      "  Downloading https://pypi.tuna.tsinghua.edu.cn/packages/6a/00/b08f23b7d7e1e14ce01419a467b583edbb93c6cdb8654e54a9cc579cd61f/addict-2.4.0-py3-none-any.whl (3.8 kB)\n",
      "Requirement already satisfied: Pillow in /root/miniconda3/envs/myconda/lib/python3.9/site-packages (from mmcv<2.1.0,>=2.0.0rc4->mmpretrain==1.0.0rc8) (9.2.0)\n",
      "Requirement already satisfied: pyyaml in /root/miniconda3/envs/myconda/lib/python3.9/site-packages (from mmcv<2.1.0,>=2.0.0rc4->mmpretrain==1.0.0rc8) (6.0)\n",
      "Collecting yapf\n",
      "  Downloading https://pypi.tuna.tsinghua.edu.cn/packages/32/ec/531851d561ecb656bd58dc102338d0aa07e086788f351c63a9f6b8a00fe6/yapf-0.33.0-py2.py3-none-any.whl (200 kB)\n",
      "\u001b[2K     \u001b[90m━━━━━━━━━━━━━━━━━━━━━━━━━━━━━━━━━━━━━━\u001b[0m \u001b[32m200.9/200.9 kB\u001b[0m \u001b[31m18.5 MB/s\u001b[0m eta \u001b[36m0:00:00\u001b[0m\n",
      "\u001b[?25hRequirement already satisfied: opencv-python>=3 in /root/miniconda3/envs/myconda/lib/python3.9/site-packages (from mmcv<2.1.0,>=2.0.0rc4->mmpretrain==1.0.0rc8) (4.6.0.66)\n",
      "Collecting termcolor\n",
      "  Downloading https://pypi.tuna.tsinghua.edu.cn/packages/67/e1/434566ffce04448192369c1a282931cf4ae593e91907558eaecd2e9f2801/termcolor-2.3.0-py3-none-any.whl (6.9 kB)\n",
      "Collecting filelock\n",
      "  Downloading https://pypi.tuna.tsinghua.edu.cn/packages/ad/73/b094a662ae05cdc4ec95bc54e434e307986a5de5960166b8161b7c1373ee/filelock-3.12.0-py3-none-any.whl (10 kB)\n",
      "Requirement already satisfied: requests in /root/miniconda3/envs/myconda/lib/python3.9/site-packages (from transformers>=4.28.0->mmpretrain==1.0.0rc8) (2.28.1)\n",
      "Requirement already satisfied: tqdm>=4.27 in /root/miniconda3/envs/myconda/lib/python3.9/site-packages (from transformers>=4.28.0->mmpretrain==1.0.0rc8) (4.64.1)\n",
      "Collecting regex!=2019.12.17\n",
      "  Downloading https://pypi.tuna.tsinghua.edu.cn/packages/c6/86/f0bb334088b102e2bb3528b502d3c0c0a7301cbc2c8d2e0304ec4b1964d7/regex-2023.5.5-cp39-cp39-manylinux_2_17_x86_64.manylinux2014_x86_64.whl (769 kB)\n",
      "\u001b[2K     \u001b[90m━━━━━━━━━━━━━━━━━━━━━━━━━━━━━━━━━━━━━━\u001b[0m \u001b[32m769.0/769.0 kB\u001b[0m \u001b[31m32.5 MB/s\u001b[0m eta \u001b[36m0:00:00\u001b[0m\n",
      "\u001b[?25hCollecting tokenizers!=0.11.3,<0.14,>=0.11.1\n",
      "  Downloading https://pypi.tuna.tsinghua.edu.cn/packages/d6/27/07a337087dd507170a1b20fed3bbf8da81401185a7130a6e74e440c52040/tokenizers-0.13.3-cp39-cp39-manylinux_2_17_x86_64.manylinux2014_x86_64.whl (7.8 MB)\n",
      "\u001b[2K     \u001b[90m━━━━━━━━━━━━━━━━━━━━━━━━━━━━━━━━━━━━━━━━\u001b[0m \u001b[32m7.8/7.8 MB\u001b[0m \u001b[31m6.5 MB/s\u001b[0m eta \u001b[36m0:00:00\u001b[0m00:01\u001b[0mm00:01\u001b[0mm\n",
      "\u001b[?25hCollecting huggingface-hub<1.0,>=0.14.1\n",
      "  Downloading https://pypi.tuna.tsinghua.edu.cn/packages/58/34/c57b951aecd0248845932c1cfc15721237c50e463f26b0536673bcb76f4f/huggingface_hub-0.14.1-py3-none-any.whl (224 kB)\n",
      "\u001b[2K     \u001b[90m━━━━━━━━━━━━━━━━━━━━━━━━━━━━━━━━━━━━━━\u001b[0m \u001b[32m224.5/224.5 kB\u001b[0m \u001b[31m20.3 MB/s\u001b[0m eta \u001b[36m0:00:00\u001b[0m\n",
      "\u001b[?25hRequirement already satisfied: zipp>=0.5 in /root/miniconda3/envs/myconda/lib/python3.9/site-packages (from importlib-metadata->mmpretrain==1.0.0rc8) (3.8.1)\n",
      "Requirement already satisfied: cycler>=0.10 in /root/miniconda3/envs/myconda/lib/python3.9/site-packages (from matplotlib->mmpretrain==1.0.0rc8) (0.11.0)\n",
      "Requirement already satisfied: python-dateutil>=2.7 in /root/miniconda3/envs/myconda/lib/python3.9/site-packages (from matplotlib->mmpretrain==1.0.0rc8) (2.8.2)\n",
      "Requirement already satisfied: contourpy>=1.0.1 in /root/miniconda3/envs/myconda/lib/python3.9/site-packages (from matplotlib->mmpretrain==1.0.0rc8) (1.0.5)\n",
      "Requirement already satisfied: fonttools>=4.22.0 in /root/miniconda3/envs/myconda/lib/python3.9/site-packages (from matplotlib->mmpretrain==1.0.0rc8) (4.37.2)\n",
      "Requirement already satisfied: pyparsing>=2.2.1 in /root/miniconda3/envs/myconda/lib/python3.9/site-packages (from matplotlib->mmpretrain==1.0.0rc8) (3.0.9)\n",
      "Requirement already satisfied: kiwisolver>=1.0.1 in /root/miniconda3/envs/myconda/lib/python3.9/site-packages (from matplotlib->mmpretrain==1.0.0rc8) (1.4.4)\n",
      "Requirement already satisfied: model-index in /root/miniconda3/envs/myconda/lib/python3.9/site-packages (from modelindex->mmpretrain==1.0.0rc8) (0.1.11)\n",
      "Requirement already satisfied: pygments<3.0.0,>=2.13.0 in /root/miniconda3/envs/myconda/lib/python3.9/site-packages (from rich->mmpretrain==1.0.0rc8) (2.13.0)\n",
      "Requirement already satisfied: markdown-it-py<3.0.0,>=2.2.0 in /root/miniconda3/envs/myconda/lib/python3.9/site-packages (from rich->mmpretrain==1.0.0rc8) (2.2.0)\n",
      "Collecting fsspec\n",
      "  Downloading https://pypi.tuna.tsinghua.edu.cn/packages/ec/4e/397b234a369df06ec782666fcdf9791d125ca6de48729814b381af8c6c03/fsspec-2023.5.0-py3-none-any.whl (160 kB)\n",
      "\u001b[2K     \u001b[90m━━━━━━━━━━━━━━━━━━━━━━━━━━━━━━━━━━━━━━\u001b[0m \u001b[32m160.1/160.1 kB\u001b[0m \u001b[31m13.1 MB/s\u001b[0m eta \u001b[36m0:00:00\u001b[0m\n",
      "\u001b[?25hRequirement already satisfied: typing-extensions>=3.7.4.3 in /root/miniconda3/envs/myconda/lib/python3.9/site-packages (from huggingface-hub<1.0,>=0.14.1->transformers>=4.28.0->mmpretrain==1.0.0rc8) (4.4.0)\n",
      "Requirement already satisfied: mdurl~=0.1 in /root/miniconda3/envs/myconda/lib/python3.9/site-packages (from markdown-it-py<3.0.0,>=2.2.0->rich->mmpretrain==1.0.0rc8) (0.1.2)\n",
      "Requirement already satisfied: six>=1.5 in /root/miniconda3/envs/myconda/lib/python3.9/site-packages (from python-dateutil>=2.7->matplotlib->mmpretrain==1.0.0rc8) (1.16.0)\n",
      "Requirement already satisfied: click in /root/miniconda3/envs/myconda/lib/python3.9/site-packages (from model-index->modelindex->mmpretrain==1.0.0rc8) (8.1.3)\n",
      "Requirement already satisfied: ordered-set in /root/miniconda3/envs/myconda/lib/python3.9/site-packages (from model-index->modelindex->mmpretrain==1.0.0rc8) (4.1.0)\n",
      "Requirement already satisfied: markdown in /root/miniconda3/envs/myconda/lib/python3.9/site-packages (from model-index->modelindex->mmpretrain==1.0.0rc8) (3.4.1)\n",
      "Requirement already satisfied: urllib3<1.27,>=1.21.1 in /root/miniconda3/envs/myconda/lib/python3.9/site-packages (from requests->transformers>=4.28.0->mmpretrain==1.0.0rc8) (1.26.12)\n",
      "Requirement already satisfied: charset-normalizer<3,>=2 in /root/miniconda3/envs/myconda/lib/python3.9/site-packages (from requests->transformers>=4.28.0->mmpretrain==1.0.0rc8) (2.1.1)\n",
      "Requirement already satisfied: idna<4,>=2.5 in /root/miniconda3/envs/myconda/lib/python3.9/site-packages (from requests->transformers>=4.28.0->mmpretrain==1.0.0rc8) (3.4)\n",
      "Requirement already satisfied: certifi>=2017.4.17 in /root/miniconda3/envs/myconda/lib/python3.9/site-packages (from requests->transformers>=4.28.0->mmpretrain==1.0.0rc8) (2022.6.15)\n",
      "Collecting tomli>=2.0.1\n",
      "  Downloading https://pypi.tuna.tsinghua.edu.cn/packages/97/75/10a9ebee3fd790d20926a90a2547f0bf78f371b2f13aa822c759680ca7b9/tomli-2.0.1-py3-none-any.whl (12 kB)\n",
      "Building wheels for collected packages: pycocotools\n",
      "  Building wheel for pycocotools (pyproject.toml) ... \u001b[?25ldone\n",
      "\u001b[?25h  Created wheel for pycocotools: filename=pycocotools-2.0.6-cp39-cp39-linux_x86_64.whl size=104243 sha256=fcf9baf3305333411815e96833de17c5499c9e2b9b925d5b9d8b558d33d365a0\n",
      "  Stored in directory: /root/.cache/pip/wheels/df/40/61/1e4b2fc4aacaadb05b23d10fb90c5fd62b9f4021c48f3fd710\n",
      "Successfully built pycocotools\n",
      "Installing collected packages: tokenizers, mat4py, addict, tomli, termcolor, regex, fsspec, filelock, einops, yapf, huggingface-hub, transformers, pycocotools, mmengine, modelindex, mmcv, mmpretrain\n",
      "  Running setup.py develop for mmpretrain\n",
      "Successfully installed addict-2.4.0 einops-0.6.1 filelock-3.12.0 fsspec-2023.5.0 huggingface-hub-0.14.1 mat4py-0.5.0 mmcv-2.0.0 mmengine-0.7.3 mmpretrain-1.0.0rc8 modelindex-0.0.2 pycocotools-2.0.6 regex-2023.5.5 termcolor-2.3.0 tokenizers-0.13.3 tomli-2.0.1 transformers-4.29.1 yapf-0.33.0\n",
      "\u001b[33mWARNING: Running pip as the 'root' user can result in broken permissions and conflicting behaviour with the system package manager. It is recommended to use a virtual environment instead: https://pip.pypa.io/warnings/venv\u001b[0m\u001b[33m\n",
      "\u001b[0m"
     ]
    }
   ],
   "source": [
    "!/root/miniconda3/envs/myconda/bin/mim install -e \".[multimodal]\""
   ]
  }
 ],
 "metadata": {
  "kernelspec": {
   "display_name": "myconda",
   "language": "python",
   "name": "myconda"
  },
  "language_info": {
   "codemirror_mode": {
    "name": "ipython",
    "version": 3
   },
   "file_extension": ".py",
   "mimetype": "text/x-python",
   "name": "python",
   "nbconvert_exporter": "python",
   "pygments_lexer": "ipython3",
   "version": "3.9.13"
  }
 },
 "nbformat": 4,
 "nbformat_minor": 5
}

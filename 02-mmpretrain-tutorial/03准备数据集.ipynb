{
 "cells": [
  {
   "cell_type": "markdown",
   "id": "ad5f0cd4-eb07-4cd7-a8ef-0b99dd889c05",
   "metadata": {},
   "source": [
    "# 进入mmpretrain"
   ]
  },
  {
   "cell_type": "code",
   "execution_count": 1,
   "id": "680e064a-fb72-4e43-bf67-0c8fbe63c629",
   "metadata": {},
   "outputs": [],
   "source": [
    "import os\n",
    "os.chdir('mmpretrain')"
   ]
  },
  {
   "cell_type": "code",
   "execution_count": 2,
   "id": "c9942607-b438-4f0c-86c8-b51154ddeb61",
   "metadata": {},
   "outputs": [
    {
     "data": {
      "text/plain": [
       "'/mnt/openmmlab-Camp/02-mmpretrain-tutorial/mmpretrain'"
      ]
     },
     "execution_count": 2,
     "metadata": {},
     "output_type": "execute_result"
    }
   ],
   "source": [
    "os.getcwd()"
   ]
  },
  {
   "cell_type": "markdown",
   "id": "de5a87f4-9511-4264-a8c5-23b11ef699f3",
   "metadata": {},
   "source": [
    "# 新建data文件夹"
   ]
  },
  {
   "cell_type": "code",
   "execution_count": 4,
   "id": "2f9822ff-dfe1-4e98-bdd6-7fdae3aaa066",
   "metadata": {},
   "outputs": [],
   "source": [
    "!mkdir data"
   ]
  },
  {
   "cell_type": "code",
   "execution_count": 5,
   "id": "bc523ad9-f645-44d6-8e6d-a962e209d3cc",
   "metadata": {},
   "outputs": [],
   "source": [
    "os.chdir('data')"
   ]
  },
  {
   "cell_type": "code",
   "execution_count": 6,
   "id": "b0a8394f-ea4b-40d8-90a4-b44833e835ca",
   "metadata": {},
   "outputs": [
    {
     "data": {
      "text/plain": [
       "'/mnt/openmmlab-Camp/02-mmpretrain-tutorial/mmpretrain/data'"
      ]
     },
     "execution_count": 6,
     "metadata": {},
     "output_type": "execute_result"
    }
   ],
   "source": [
    "os.getcwd()"
   ]
  },
  {
   "cell_type": "markdown",
   "id": "7b68bc24-edf1-409b-8c25-e5358acd1b7f",
   "metadata": {},
   "source": [
    "# 下载数据集"
   ]
  },
  {
   "cell_type": "code",
   "execution_count": 7,
   "id": "4519de64-20f0-4ca6-86e5-b598864885bd",
   "metadata": {},
   "outputs": [
    {
     "name": "stdout",
     "output_type": "stream",
     "text": [
      "--2023-06-06 11:22:03--  https://download.openmmlab.com/mmclassification/dataset/cats_dogs_dataset.tar\n",
      "Resolving download.openmmlab.com (download.openmmlab.com)... 119.96.33.215, 113.240.96.86, 150.139.241.201\n",
      "Connecting to download.openmmlab.com (download.openmmlab.com)|119.96.33.215|:443... connected.\n",
      "HTTP request sent, awaiting response... 200 OK\n",
      "Length: 236175360 (225M) [application/x-tar]\n",
      "Saving to: ‘cats_dogs_dataset.tar’\n",
      "\n",
      "cats_dogs_dataset.t 100%[===================>] 225.23M  11.1MB/s    in 16s     \n",
      "\n",
      "2023-06-06 11:22:19 (13.9 MB/s) - ‘cats_dogs_dataset.tar’ saved [236175360/236175360]\n",
      "\n"
     ]
    }
   ],
   "source": [
    "!wget https://download.openmmlab.com/mmclassification/dataset/cats_dogs_dataset.tar "
   ]
  },
  {
   "cell_type": "code",
   "execution_count": 8,
   "id": "e2be85e6-8e1c-4899-829a-837adfcfe881",
   "metadata": {},
   "outputs": [
    {
     "data": {
      "text/plain": [
       "['cats_dogs_dataset.tar']"
      ]
     },
     "execution_count": 8,
     "metadata": {},
     "output_type": "execute_result"
    }
   ],
   "source": [
    "os.listdir()"
   ]
  },
  {
   "cell_type": "code",
   "execution_count": 12,
   "id": "59d98f82-690b-4402-b1f2-a9e87ed67679",
   "metadata": {},
   "outputs": [],
   "source": [
    "# 解压\n",
    "!tar -xf cats_dogs_dataset.tar"
   ]
  },
  {
   "cell_type": "code",
   "execution_count": 13,
   "id": "3313e00b-fa7a-468e-a6dd-4234c7eb5f40",
   "metadata": {},
   "outputs": [
    {
     "data": {
      "text/plain": [
       "['cats_dogs_dataset.tar', 'cats_dogs_dataset']"
      ]
     },
     "execution_count": 13,
     "metadata": {},
     "output_type": "execute_result"
    }
   ],
   "source": [
    "os.listdir()"
   ]
  },
  {
   "cell_type": "code",
   "execution_count": 15,
   "id": "16c21818-6524-42e7-8f5e-3234ed725dfc",
   "metadata": {},
   "outputs": [
    {
     "name": "stdout",
     "output_type": "stream",
     "text": [
      "cats_dogs_dataset  cats_dogs_dataset.tar\n"
     ]
    }
   ],
   "source": [
    "!ls"
   ]
  }
 ],
 "metadata": {
  "kernelspec": {
   "display_name": "myconda",
   "language": "python",
   "name": "myconda"
  },
  "language_info": {
   "codemirror_mode": {
    "name": "ipython",
    "version": 3
   },
   "file_extension": ".py",
   "mimetype": "text/x-python",
   "name": "python",
   "nbconvert_exporter": "python",
   "pygments_lexer": "ipython3",
   "version": "3.9.13"
  }
 },
 "nbformat": 4,
 "nbformat_minor": 5
}

{
 "cells": [
  {
   "cell_type": "code",
   "execution_count": 1,
   "id": "9f7d8c29-a2fa-4642-b574-b7e5a842d69a",
   "metadata": {},
   "outputs": [],
   "source": [
    "# 详见mmpretrain/myconfig/resnet18_finetune.py "
   ]
  }
 ],
 "metadata": {
  "kernelspec": {
   "display_name": "myconda",
   "language": "python",
   "name": "myconda"
  },
  "language_info": {
   "codemirror_mode": {
    "name": "ipython",
    "version": 3
   },
   "file_extension": ".py",
   "mimetype": "text/x-python",
   "name": "python",
   "nbconvert_exporter": "python",
   "pygments_lexer": "ipython3",
   "version": "3.9.13"
  }
 },
 "nbformat": 4,
 "nbformat_minor": 5
}

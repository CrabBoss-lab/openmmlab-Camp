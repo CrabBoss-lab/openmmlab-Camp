{
 "cells": [
  {
   "cell_type": "code",
   "execution_count": 1,
   "id": "5cfa0a4b-848e-43ac-a5a2-ebd75cf40a10",
   "metadata": {},
   "outputs": [],
   "source": [
    "# 编写配置文件，见mmpretrain/myconfig/resnet50_fruit30.py"
   ]
  }
 ],
 "metadata": {
  "kernelspec": {
   "display_name": "myconda",
   "language": "python",
   "name": "myconda"
  },
  "language_info": {
   "codemirror_mode": {
    "name": "ipython",
    "version": 3
   },
   "file_extension": ".py",
   "mimetype": "text/x-python",
   "name": "python",
   "nbconvert_exporter": "python",
   "pygments_lexer": "ipython3",
   "version": "3.9.13"
  }
 },
 "nbformat": 4,
 "nbformat_minor": 5
}

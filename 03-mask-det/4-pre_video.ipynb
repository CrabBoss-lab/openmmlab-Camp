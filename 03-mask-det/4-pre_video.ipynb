{
 "cells": [
  {
   "cell_type": "code",
   "execution_count": 1,
   "id": "eb36a12c-a609-4a4c-ab8f-f4170462d48d",
   "metadata": {},
   "outputs": [],
   "source": [
    "import os\n",
    "os.chdir('mmdetection')"
   ]
  },
  {
   "cell_type": "code",
   "execution_count": 4,
   "id": "95afd0f2-b921-4346-9e8c-b96098e1c798",
   "metadata": {},
   "outputs": [
    {
     "name": "stdout",
     "output_type": "stream",
     "text": [
      "Loads checkpoint by local backend from path: work_dirs/mask_rtmdet/best_coco_bbox_mAP_epoch_70.pth\n",
      "06/12 03:27:23 - mmengine - \u001b[5m\u001b[4m\u001b[33mWARNING\u001b[0m - `Visualizer` backend is not initialized because save_dir is None.\n",
      "[                                                  ] 0/444, elapsed: 0s, ETA:/root/miniconda3/envs/myconda/lib/python3.8/site-packages/torch/functional.py:478: UserWarning: torch.meshgrid: in an upcoming release, it will be required to pass the indexing argument. (Triggered internally at  ../aten/src/ATen/native/TensorShape.cpp:2894.)\n",
      "  return _VF.meshgrid(tensors, **kwargs)  # type: ignore[attr-defined]\n",
      "[>>>>>>>>>>>>>>>>>>>>>>>>>>>>>>] 444/444, 6.7 task/s, elapsed: 66s, ETA:     0s\n",
      "Traceback (most recent call last):\n",
      "  File \"demo/video_demo.py\", line 83, in <module>\n",
      "    main()\n",
      "  File \"demo/video_demo.py\", line 79, in main\n",
      "    cv2.destroyAllWindows()\n",
      "cv2.error: OpenCV(4.7.0) /io/opencv/modules/highgui/src/window.cpp:1266: error: (-2:Unspecified error) The function is not implemented. Rebuild the library with Windows, GTK+ 2.x or Cocoa support. If you are on Ubuntu or Debian, install libgtk2.0-dev and pkg-config, then re-run cmake or configure script in function 'cvDestroyAllWindows'\n",
      "\n"
     ]
    }
   ],
   "source": [
    "!/root/miniconda3/envs/myconda/bin/python demo/video_demo.py \\\n",
    "    mask_dataset/mask.mp4 \\\n",
    "    mask_dataset/mask_rtmdet.py \\\n",
    "    work_dirs/mask_rtmdet/best_coco_bbox_mAP_epoch_70.pth \\\n",
    "    --out outputs/mask-result.mp4"
   ]
  }
 ],
 "metadata": {
  "kernelspec": {
   "display_name": "myconda",
   "language": "python",
   "name": "myconda"
  },
  "language_info": {
   "codemirror_mode": {
    "name": "ipython",
    "version": 3
   },
   "file_extension": ".py",
   "mimetype": "text/x-python",
   "name": "python",
   "nbconvert_exporter": "python",
   "pygments_lexer": "ipython3",
   "version": "3.8.15"
  }
 },
 "nbformat": 4,
 "nbformat_minor": 5
}

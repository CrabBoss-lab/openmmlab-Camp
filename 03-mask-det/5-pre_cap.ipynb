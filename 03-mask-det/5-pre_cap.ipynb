{
 "cells": [
  {
   "cell_type": "markdown",
   "id": "20861571-188b-4a3e-b67c-28782badf568",
   "metadata": {},
   "source": [
    "# 摄像头预测"
   ]
  },
  {
   "cell_type": "code",
   "execution_count": 2,
   "id": "52b49a33-3dee-42f9-b766-c527192bdb44",
   "metadata": {},
   "outputs": [],
   "source": [
    "import os\n",
    "os.chdir('mmdetection')"
   ]
  },
  {
   "cell_type": "code",
   "execution_count": 3,
   "id": "1b81e1aa-65d2-4de5-87dc-8949a14341f0",
   "metadata": {},
   "outputs": [
    {
     "name": "stdout",
     "output_type": "stream",
     "text": [
      "Loads checkpoint by local backend from path: work_dirs/mask_rtmdet/best_coco_bbox_mAP_epoch_70.pth\n",
      "06/12 02:55:44 - mmengine - \u001b[5m\u001b[4m\u001b[33mWARNING\u001b[0m - `Visualizer` backend is not initialized because save_dir is None.\n",
      "[ WARN:0@3.958] global cap_v4l.cpp:982 open VIDEOIO(V4L2:/dev/video0): can't open camera by index\n",
      "[ERROR:0@3.958] global obsensor_uvc_stream_channel.cpp:156 getStreamChannelGroup Camera index out of range\n",
      "Press \"Esc\", \"q\" or \"Q\" to exit.\n",
      "Traceback (most recent call last):\n",
      "  File \"demo/webcam_demo.py\", line 65, in <module>\n",
      "    main()\n",
      "  File \"demo/webcam_demo.py\", line 44, in main\n",
      "    result = inference_detector(model, img)\n",
      "  File \"/root/miniconda3/envs/myconda/lib/python3.8/site-packages/mmdet/apis/inference.py\", line 170, in inference_detector\n",
      "    data_ = test_pipeline(data_)\n",
      "  File \"/root/miniconda3/envs/myconda/lib/python3.8/site-packages/mmcv/transforms/base.py\", line 12, in __call__\n",
      "    return self.transform(results)\n",
      "  File \"/root/miniconda3/envs/myconda/lib/python3.8/site-packages/mmcv/transforms/wrappers.py\", line 88, in transform\n",
      "    results = t(results)  # type: ignore\n",
      "  File \"/root/miniconda3/envs/myconda/lib/python3.8/site-packages/mmcv/transforms/base.py\", line 12, in __call__\n",
      "    return self.transform(results)\n",
      "  File \"/root/miniconda3/envs/myconda/lib/python3.8/site-packages/mmcv/transforms/loading.py\", line 107, in transform\n",
      "    raise e\n",
      "  File \"/root/miniconda3/envs/myconda/lib/python3.8/site-packages/mmcv/transforms/loading.py\", line 99, in transform\n",
      "    img_bytes = fileio.get(\n",
      "  File \"/root/miniconda3/envs/myconda/lib/python3.8/site-packages/mmengine/fileio/io.py\", line 179, in get\n",
      "    backend = get_file_backend(\n",
      "  File \"/root/miniconda3/envs/myconda/lib/python3.8/site-packages/mmengine/fileio/io.py\", line 137, in get_file_backend\n",
      "    raise ValueError(\n",
      "ValueError: uri should not be None when \"backend\" does not exist in backend_args\n"
     ]
    }
   ],
   "source": [
    "!/root/miniconda3/envs/myconda/bin/python demo/webcam_demo.py \\\n",
    "    mask_dataset/mask_rtmdet.py \\\n",
    "     work_dirs/mask_rtmdet/best_coco_bbox_mAP_epoch_70.pth"
   ]
  }
 ],
 "metadata": {
  "kernelspec": {
   "display_name": "myconda",
   "language": "python",
   "name": "myconda"
  },
  "language_info": {
   "codemirror_mode": {
    "name": "ipython",
    "version": 3
   },
   "file_extension": ".py",
   "mimetype": "text/x-python",
   "name": "python",
   "nbconvert_exporter": "python",
   "pygments_lexer": "ipython3",
   "version": "3.8.15"
  }
 },
 "nbformat": 4,
 "nbformat_minor": 5
}
